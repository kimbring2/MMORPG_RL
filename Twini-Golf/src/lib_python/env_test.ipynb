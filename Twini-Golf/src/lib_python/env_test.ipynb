{
 "cells": [
  {
   "cell_type": "code",
   "execution_count": 1,
   "id": "455d78e3",
   "metadata": {},
   "outputs": [
    {
     "name": "stdout",
     "output_type": "stream",
     "text": [
      "GolfGamePython::GolfGamePython()\n",
      "GolfGamePython::init()\n",
      "GolfGame::init()\n",
      "GolfController::init()\n",
      "(this->instanceId).c_str(): fVDzhhx5yS\n",
      "GolfController::launchGolf()\n",
      "GolfController::handleSignals()\n",
      "TTF_init has failed. Error: \n",
      "Failed to load texture. Error: Couldn't open res/gfx/splashbg.png\n"
     ]
    }
   ],
   "source": [
    "import vizgolf as vzg\n",
    "import time\n",
    "import cv2\n",
    "import numpy as np\n",
    "import random\n",
    "\n",
    "game = vzg.GolfGame()\n",
    "\n",
    "game.add_available_button(vzg.Button.MOVE_FORWARD_BACKWARD_DELTA)\n",
    "game.add_available_button(vzg.Button.MOVE_LEFT_RIGHT_DELTA)\n",
    "game.add_available_button(vzg.Button.TURN_LEFT_RIGHT_DELTA)\n",
    "game.add_available_button(vzg.Button.LOOK_UP_DOWN_DELTA)\n",
    "#game.button_update()\n",
    "\n",
    "game.init()"
   ]
  },
  {
   "cell_type": "code",
   "execution_count": null,
   "id": "4738640c",
   "metadata": {},
   "outputs": [],
   "source": [
    "game.send_command(\"3\")"
   ]
  },
  {
   "cell_type": "code",
   "execution_count": null,
   "id": "45f3afcc",
   "metadata": {},
   "outputs": [],
   "source": [
    "x_action_float = -0.7\n",
    "y_action_float = -0.0\n",
    "\n",
    "x_action_string = \"{:+1.4f}\".format(x_action_float)\n",
    "\n",
    "y_action_string = \"{:+1.4f}\".format(y_action_float)\n",
    "action_string = \"1$\" + x_action_string + \"$\" + y_action_string + \"$\"\n",
    "\n",
    "game.send_command(action_string)\n",
    "game.update_state()\n",
    "state = game.get_state()\n",
    "print(\"state.reward: \", state.reward)"
   ]
  },
  {
   "cell_type": "code",
   "execution_count": 4,
   "id": "8e038d6b",
   "metadata": {},
   "outputs": [
    {
     "name": "stdout",
     "output_type": "stream",
     "text": [
      "set ok\n"
     ]
    },
    {
     "ename": "KeyboardInterrupt",
     "evalue": "",
     "output_type": "error",
     "traceback": [
      "\u001b[0;31m---------------------------------------------------------------------------\u001b[0m",
      "\u001b[0;31mKeyboardInterrupt\u001b[0m                         Traceback (most recent call last)",
      "Input \u001b[0;32mIn [4]\u001b[0m, in \u001b[0;36m<module>\u001b[0;34m\u001b[0m\n\u001b[1;32m     20\u001b[0m cv2\u001b[38;5;241m.\u001b[39mwaitKey(\u001b[38;5;241m1\u001b[39m)\n\u001b[1;32m     22\u001b[0m \u001b[38;5;66;03m#game.send_command(action_string)\u001b[39;00m\n\u001b[1;32m     23\u001b[0m \u001b[38;5;66;03m#time.sleep(0.5)\u001b[39;00m\n\u001b[0;32m---> 24\u001b[0m \u001b[43mgame\u001b[49m\u001b[38;5;241;43m.\u001b[39;49m\u001b[43msend_command\u001b[49m\u001b[43m(\u001b[49m\u001b[43maction_string\u001b[49m\u001b[43m)\u001b[49m\n\u001b[1;32m     26\u001b[0m game\u001b[38;5;241m.\u001b[39mupdate_state()\n\u001b[1;32m     27\u001b[0m state \u001b[38;5;241m=\u001b[39m game\u001b[38;5;241m.\u001b[39mget_state()\n",
      "\u001b[0;31mKeyboardInterrupt\u001b[0m: "
     ]
    }
   ],
   "source": [
    "game.update_state()\n",
    "state = game.get_state()\n",
    "\n",
    "for i in range(0, 500000):\n",
    "    x_action_float = random.uniform(-0.5, 0.5)\n",
    "    y_action_float = random.uniform(-0.5, 0.5)\n",
    "\n",
    "    x_action_string = \"{:+1.4f}\".format(x_action_float)\n",
    "    #print(\"x_action_string: \", x_action_string)\n",
    "\n",
    "    y_action_string = \"{:+1.4f}\".format(y_action_float)\n",
    "    #print(\"y_action_string: \", y_action_string)\n",
    "    action_string = \"1$\" + x_action_string + \"$\" + y_action_string + \"$\"\n",
    "\n",
    "    #print(\"state.labels[0].object_name: \", state.labels[0].object_name)\n",
    "    #print(\"state.screen_buffer.shape: \", state.screen_buffer.shape)\n",
    "    #screen_buffer = np.transpose(screen_buffer, (1, 2, 0))\n",
    "    #print(\"screen_buffer.shape: \", screen_buffer.shape)\n",
    "    cv2.imshow(\"screen_buffer\", state.screen_buffer)\n",
    "    cv2.waitKey(1)\n",
    "\n",
    "    #game.send_command(action_string)\n",
    "    #time.sleep(0.5)\n",
    "    game.send_command(action_string)\n",
    "    \n",
    "    game.update_state()\n",
    "    state = game.get_state()"
   ]
  },
  {
   "cell_type": "code",
   "execution_count": null,
   "id": "7bbf8d1a",
   "metadata": {},
   "outputs": [],
   "source": []
  }
 ],
 "metadata": {
  "kernelspec": {
   "display_name": "py38",
   "language": "python",
   "name": "py38"
  },
  "language_info": {
   "codemirror_mode": {
    "name": "ipython",
    "version": 3
   },
   "file_extension": ".py",
   "mimetype": "text/x-python",
   "name": "python",
   "nbconvert_exporter": "python",
   "pygments_lexer": "ipython3",
   "version": "3.8.10"
  }
 },
 "nbformat": 4,
 "nbformat_minor": 5
}
